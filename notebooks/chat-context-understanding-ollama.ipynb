{
 "cells": [
  {
   "cell_type": "code",
   "execution_count": 1,
   "id": "8390efe2-b703-4e41-be39-b1b7289eed8b",
   "metadata": {},
   "outputs": [],
   "source": [
    "import requests  # Imports the requests library to handle HTTP requests, commonly used for APIs\n",
    "import json      # Imports the JSON library for encoding and decoding JSON data, used for handling API payloads and responses\n",
    "import os        # Imports the OS library to interact with the operating system, often used for file and path management\n",
    "import time      # Imports the time library to work with time-related functions, useful for delays, timing, or managing retries"
   ]
  },
  {
   "cell_type": "code",
   "execution_count": 2,
   "id": "893556ae-0170-4537-bf9e-09375c49f62c",
   "metadata": {},
   "outputs": [],
   "source": [
    "class ChatAssistant:\n",
    "    def __init__(self, url: str, model: str):\n",
    "        \"\"\"\n",
    "        Initializes the ChatAssistant with the specified model and API endpoint.\n",
    "\n",
    "        Parameters:\n",
    "        - url (str): The endpoint URL for the chat model API.\n",
    "        - model (str): The specific model identifier to use for chat responses.\n",
    "        \"\"\"\n",
    "        self.url = url  # API endpoint for chat completion requests\n",
    "        self.model = model  # Model name to be used for generating chat responses\n",
    "        self.headers = {\"Content-Type\": \"application/json\"}  # Set request headers to JSON format\n",
    "\n",
    "    def get_chat_response(self, query: str, context: str) -> str:\n",
    "        \"\"\"\n",
    "        Generates a response from the chat model based on a specific query and provided context.\n",
    "\n",
    "        Parameters:\n",
    "        - query (str): The user's question or query for which the response is sought.\n",
    "        - context (str): The context or document content to be used strictly for answering the query.\n",
    "\n",
    "        Returns:\n",
    "        - str: The generated response from the model based on the query and context, or None if an error occurs.\n",
    "        \"\"\"\n",
    "        # Create payload for API request, setting temperature and message content\n",
    "        payload = {\n",
    "            \"model\": self.model,  # Specifies which model to use for the response\n",
    "            \"option\": {\"temperature\": 0.7},  # Controls response variability\n",
    "            \"messages\": [\n",
    "                {\n",
    "                    \"role\": \"system\",\n",
    "                    \"content\": f\"\"\"\n",
    "                    You are an intelligent assistant specializing in providing answers strictly from the provided documents.\n",
    "                    Context: '{context}'. Do not generate information outside of the provided context.\n",
    "                    \"\"\"\n",
    "                },\n",
    "                {\n",
    "                    \"role\": \"user\",\n",
    "                    \"content\": f\"Answer the following query using only the given context. Query: '{query}'\"\n",
    "                }\n",
    "            ]\n",
    "        }\n",
    "\n",
    "        try:\n",
    "            # Send a POST request to the chat model API with the constructed payload\n",
    "            response = requests.post(self.url, json=payload, headers=self.headers)\n",
    "            response.raise_for_status()  # Raise HTTPError if response code indicates an error\n",
    "            # Extract and return the content of the model's response\n",
    "            return response.json()[\"choices\"][0][\"message\"][\"content\"]\n",
    "        except requests.exceptions.RequestException as e:\n",
    "            # Print the error message if the request fails\n",
    "            print(f\"An error occurred: {e}\")\n",
    "            return None  # Return None if an error occurs during the request\n",
    "\n",
    "    def get_chat_response_nocontext(self, query: str) -> str:\n",
    "        \"\"\"\n",
    "        Generates a response from the chat model based on a query without requiring any specific context.\n",
    "\n",
    "        Parameters:\n",
    "        - query (str): The user's question or query.\n",
    "\n",
    "        Returns:\n",
    "        - str: The generated response from the model for the given query, or None if an error occurs.\n",
    "        \"\"\"\n",
    "        # Create payload for API request without providing context information\n",
    "        payload = {\n",
    "            \"model\": self.model,  # Specifies the model to use for the response\n",
    "            \"option\": {\"temperature\": 0.7},  # Controls response variability\n",
    "            \"messages\": [\n",
    "                {\n",
    "                    \"role\": \"system\",\n",
    "                    \"content\": \"You are an assistant. Answer the asked queries.\"\n",
    "                },\n",
    "                {\n",
    "                    \"role\": \"user\",\n",
    "                    \"content\": f\"\"\"Query: {query}\"\"\"\n",
    "                }\n",
    "            ]\n",
    "        }\n",
    "\n",
    "        try:\n",
    "            # Send a POST request to the chat model API with the constructed payload\n",
    "            response = requests.post(self.url, json=payload, headers=self.headers)\n",
    "            response.raise_for_status()  # Raise HTTPError if response code indicates an error\n",
    "            # Extract and return the content of the model's response\n",
    "            return response.json()[\"choices\"][0][\"message\"][\"content\"]\n",
    "        except requests.exceptions.RequestException as e:\n",
    "            # Print the error message if the request fails\n",
    "            print(f\"An error occurred: {e}\")\n",
    "            return None  # Return None if an error occurs during the request\n"
   ]
  },
  {
   "cell_type": "code",
   "execution_count": 3,
   "id": "b33193af-583e-4f25-bb5f-6bd0f8c77303",
   "metadata": {},
   "outputs": [],
   "source": [
    "chat_assistant = ChatAssistant(url=\"http://localhost:11434/v1/chat/completions/\", model=\"llama3.2\")"
   ]
  },
  {
   "cell_type": "code",
   "execution_count": 4,
   "id": "24a24a7c-98e4-4f8c-9992-a865fb917994",
   "metadata": {},
   "outputs": [],
   "source": [
    "context = \"\"\"\n",
    "Biswajit Satapathy loves technology and is always eager to learn about new advancements. Currently, he works as a Senior AI Engineer at Ozonetel Communication Pvt. Ltd., where he focuses on speech and language technologies like Automatic Speech Recognition, Speech Analytics, and Language Models for NLU (Natural Language Understanding).\n",
    "\n",
    "Before joining Ozonetel, Biswajit worked at IIT Kharagpur and Yantra Software Pvt. Ltd. as a speech researcher and software developer. He gained valuable skills in speech analysis, software development, and integration during these experiences.\n",
    "\n",
    "Alongside his job, Biswajit has also explored areas of Artificial Intelligence such as data analysis and machine learning. As a Senior AI Engineer, he encourages his team to keep learning and innovating.\n",
    "\"\"\""
   ]
  },
  {
   "cell_type": "code",
   "execution_count": 5,
   "id": "8bcbdf53-7743-43e3-a71c-cbff5a9f65a1",
   "metadata": {},
   "outputs": [
    {
     "data": {
      "text/plain": [
       "'I apologise but I do not know what person or information is being referred to about Biswajit Satapathy. Can you provide further details about him/her/their field, nationality, achievements ?'"
      ]
     },
     "execution_count": 5,
     "metadata": {},
     "output_type": "execute_result"
    }
   ],
   "source": [
    "chat_assistant.get_chat_response_nocontext(\"Who is Biswajit Satapathy?\")"
   ]
  },
  {
   "cell_type": "code",
   "execution_count": 6,
   "id": "99af78e9-9000-455e-84f6-8ff49208e74f",
   "metadata": {},
   "outputs": [
    {
     "data": {
      "text/plain": [
       "'Biswajit Satapathy is a Senior AI Engineer, specifically working on speech and language technologies at Ozonetel Communication Pvt. Ltd.'"
      ]
     },
     "execution_count": 6,
     "metadata": {},
     "output_type": "execute_result"
    }
   ],
   "source": [
    "chat_assistant.get_chat_response(\"Who is Biswajit?\", context=context)"
   ]
  },
  {
   "cell_type": "code",
   "execution_count": null,
   "id": "ce7f5827-3a61-434c-9428-b6c363510dc1",
   "metadata": {},
   "outputs": [],
   "source": []
  }
 ],
 "metadata": {
  "kernelspec": {
   "display_name": "Python 3 (ipykernel)",
   "language": "python",
   "name": "python3"
  },
  "language_info": {
   "codemirror_mode": {
    "name": "ipython",
    "version": 3
   },
   "file_extension": ".py",
   "mimetype": "text/x-python",
   "name": "python",
   "nbconvert_exporter": "python",
   "pygments_lexer": "ipython3",
   "version": "3.10.12"
  },
  "widgets": {
   "application/vnd.jupyter.widget-state+json": {
    "state": {},
    "version_major": 2,
    "version_minor": 0
   }
  }
 },
 "nbformat": 4,
 "nbformat_minor": 5
}
