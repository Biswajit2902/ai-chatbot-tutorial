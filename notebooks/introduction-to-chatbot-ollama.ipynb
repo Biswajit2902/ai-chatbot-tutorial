{
 "cells": [
  {
   "cell_type": "code",
   "execution_count": 1,
   "id": "8390efe2-b703-4e41-be39-b1b7289eed8b",
   "metadata": {},
   "outputs": [],
   "source": [
    "import requests  # Imports the requests library to handle HTTP requests, commonly used for APIs\n",
    "import json      # Imports the JSON library for encoding and decoding JSON data, used for handling API payloads and responses\n",
    "import os        # Imports the OS library to interact with the operating system, often used for file and path management\n",
    "import time      # Imports the time library to work with time-related functions, useful for delays, timing, or managing retries"
   ]
  },
  {
   "cell_type": "code",
   "execution_count": 2,
   "id": "471eefec-7c61-43cc-9755-da7a03877a94",
   "metadata": {},
   "outputs": [],
   "source": [
    "class ChatBot:\n",
    "    def __init__(self, url: str, model: str, system=None):\n",
    "        \"\"\"\n",
    "        Initializes the ChatBot with the specified model, API endpoint, and an optional system prompt.\n",
    "\n",
    "        Parameters:\n",
    "        - url (str): The endpoint URL for the chat model API.\n",
    "        - model (str): The specific model identifier to use for chat responses.\n",
    "        - system (str, optional): Optional system prompt to set the assistant's behavior.\n",
    "        \"\"\"\n",
    "        self.url = url  # API endpoint for chat model requests\n",
    "        self.model = model  # Model name to use for generating responses\n",
    "        self.headers = {\"Content-Type\": \"application/json\"}  # Set headers to specify JSON format\n",
    "\n",
    "        # Initialize message history with a system message based on the provided or default prompt\n",
    "        if system:\n",
    "            # Custom system message provided by the user\n",
    "            self.messages = [\n",
    "                {\n",
    "                    \"role\": \"system\",\n",
    "                    \"content\": system\n",
    "                }\n",
    "            ]\n",
    "        else:\n",
    "            # Default system message if no custom prompt is provided\n",
    "            self.messages = [\n",
    "                {\n",
    "                    \"role\": \"system\",\n",
    "                    \"content\": \"You are an assistant.\"\n",
    "                }\n",
    "            ]            \n",
    "\n",
    "    def chat(self, query: str) -> str:\n",
    "        \"\"\"\n",
    "        Sends a user query to the chat model and retrieves the response.\n",
    "\n",
    "        Parameters:\n",
    "        - query (str): The user's question or input to the chatbot.\n",
    "\n",
    "        Returns:\n",
    "        - str: The chatbot's response to the query, or None if an error occurs.\n",
    "        \"\"\"\n",
    "        # Append the user's query to the message history\n",
    "        self.messages.append(\n",
    "            {\n",
    "                \"role\": \"user\",\n",
    "                \"content\": query\n",
    "            }\n",
    "        )\n",
    "        \n",
    "        # Construct the payload for the API request\n",
    "        payload = {\n",
    "            \"model\": self.model,  # Specifies the model to use for the response\n",
    "            \"option\": {\"temperature\": 0.7},  # Sets the response variability (higher means more varied responses)\n",
    "            \"messages\": self.messages  # Includes the conversation history in the request\n",
    "        }\n",
    "\n",
    "        try:\n",
    "            # Send a POST request to the chat model API with the payload\n",
    "            response = requests.post(self.url, json=payload, headers=self.headers)\n",
    "            response.raise_for_status()  # Raises HTTPError if the response status is an error\n",
    "            \n",
    "            # Extract the assistant's response from the API response\n",
    "            response_text = response.json()[\"choices\"][0][\"message\"][\"content\"]\n",
    "            \n",
    "            # Append the assistant's response to the message history to maintain conversation context\n",
    "            self.messages.append(\n",
    "                {\n",
    "                    \"role\": \"assistant\",\n",
    "                    \"content\": response_text\n",
    "                }\n",
    "            )\n",
    "            \n",
    "            return response_text  # Return the assistant's response as a string\n",
    "        except requests.exceptions.RequestException as e:\n",
    "            # Print an error message if the request fails\n",
    "            print(f\"An error occurred: {e}\")\n",
    "            return None  # Return None if an error occurs during the request\n"
   ]
  },
  {
   "cell_type": "code",
   "execution_count": 3,
   "id": "7532ed2b-7703-4fa9-8c48-6d1c58a9847f",
   "metadata": {},
   "outputs": [],
   "source": [
    "chatbot = ChatBot(url=\"http://localhost:11434/v1/chat/completions/\", model=\"llama3.2\")"
   ]
  },
  {
   "cell_type": "code",
   "execution_count": 4,
   "id": "4c6b990a-780f-4f03-9583-0ceebdd40889",
   "metadata": {},
   "outputs": [
    {
     "data": {
      "text/plain": [
       "'Hello how can I assist you?'"
      ]
     },
     "execution_count": 4,
     "metadata": {},
     "output_type": "execute_result"
    }
   ],
   "source": [
    "chatbot.chat(\"Hi\")"
   ]
  },
  {
   "cell_type": "code",
   "execution_count": 5,
   "id": "77c89d52-cd1b-415d-8fb8-bd52ea32ba23",
   "metadata": {},
   "outputs": [
    {
     "data": {
      "text/plain": [
       "[{'role': 'system', 'content': 'You are an assistant.'},\n",
       " {'role': 'user', 'content': 'Hi'},\n",
       " {'role': 'assistant', 'content': 'Hello how can I assist you?'}]"
      ]
     },
     "execution_count": 5,
     "metadata": {},
     "output_type": "execute_result"
    }
   ],
   "source": [
    "chatbot.messages"
   ]
  },
  {
   "cell_type": "code",
   "execution_count": 6,
   "id": "3974546e-9b4a-4203-9ff1-608a012cf87b",
   "metadata": {},
   "outputs": [
    {
     "data": {
      "text/plain": [
       "\"I'm just a computer program, so I don't have feelings or emotions like humans do. I'm functioning properly and ready to help with any questions or tasks you have, though! How about you? Is there something on your mind that you'd like to chat about or ask for assistance with?\""
      ]
     },
     "execution_count": 6,
     "metadata": {},
     "output_type": "execute_result"
    }
   ],
   "source": [
    "chatbot.chat(\"I am good how are you?\")"
   ]
  },
  {
   "cell_type": "code",
   "execution_count": 7,
   "id": "ecf4535f-d4f6-45a9-a0b2-11bf9263d804",
   "metadata": {},
   "outputs": [
    {
     "data": {
      "text/plain": [
       "[{'role': 'system', 'content': 'You are an assistant.'},\n",
       " {'role': 'user', 'content': 'Hi'},\n",
       " {'role': 'assistant', 'content': 'Hello how can I assist you?'},\n",
       " {'role': 'user', 'content': 'I am good how are you?'},\n",
       " {'role': 'assistant',\n",
       "  'content': \"I'm just a computer program, so I don't have feelings or emotions like humans do. I'm functioning properly and ready to help with any questions or tasks you have, though! How about you? Is there something on your mind that you'd like to chat about or ask for assistance with?\"}]"
      ]
     },
     "execution_count": 7,
     "metadata": {},
     "output_type": "execute_result"
    }
   ],
   "source": [
    "chatbot.messages"
   ]
  },
  {
   "cell_type": "code",
   "execution_count": 8,
   "id": "6e9f016b-ec9f-4702-b35a-bdd80035e44f",
   "metadata": {},
   "outputs": [
    {
     "name": "stdout",
     "output_type": "stream",
     "text": [
      "That's a great combination of interests! It sounds like you have a creative and adventurous spirit.\n",
      "\n",
      "Cycling is an excellent way to explore new places while getting some exercise, and I'm sure it's exhilarating to ride through scenic routes or visit new cities on two wheels.\n",
      "\n",
      "Cooking is a wonderful hobby that allows you to express your creativity and experiment with new flavors. What's your favorite cuisine to cook or try?\n",
      "\n",
      "Music is another universal language that can evoke strong emotions and memories. Are you into any particular genre of music, or do you enjoy discovering new artists and styles?\n",
      "\n",
      "Traveling can be such a rewarding experience, and I'm sure you've had some amazing adventures so far. Where are some places on your bucket list that you'd love to visit someday?\n",
      "\n",
      "And finally, AI is indeed an exciting field that's constantly evolving! Are there any specific areas of AI that interest you the most, such as machine learning, natural language processing, or computer vision?\n"
     ]
    }
   ],
   "source": [
    "print(chatbot.chat(\"I love cycling, cooking, music, travelling. Techology excites me a lot when it comes to AI.\"))"
   ]
  },
  {
   "cell_type": "code",
   "execution_count": 9,
   "id": "5095156d-0873-4914-9950-10505a4f1396",
   "metadata": {},
   "outputs": [
    {
     "name": "stdout",
     "output_type": "stream",
     "text": [
      "A rainy day is a perfect excuse to stay indoors and indulge in some of your favorite activities!\n",
      "\n",
      "Given your interests, here are a few ideas to make the most of this rainy day:\n",
      "\n",
      "1. **Indoor cycling**: Why not set up a mini indoor cycling station at home? You can invest in an exercise bike or a stationary bike and pedal away while listening to music or enjoying a favorite TV show.\n",
      "2. **Cooking extravaganza**: Spend the day trying out new recipes or experimenting with different cuisines. You can find plenty of cookbooks, YouTube videos, or online recipes to inspire you.\n",
      "3. **Music marathon**: Rainy days are an excellent excuse to immerse yourself in your favorite music genres. Put on your headphones, and play some tunes that lift your spirits.\n",
      "4. **Indoor exploration**: If you're not feeling up for cooking or cycling, why not explore the world of virtual travel? Browse through travel blogs, watch documentaries about different destinations, or even take an online virtual tour.\n",
      "5. **AI-powered creative hub**: Why not try exploring some AI-generated art, music, or writing tools? You can find plenty of resources and online platforms that allow you to create something new using AI algorithms.\n",
      "\n",
      "Which one of these ideas sounds appealing to you?\n",
      "\n",
      "(And if none of these suggestions work for you, I'm happy to brainstorm more ideas!)\n"
     ]
    }
   ],
   "source": [
    "print(chatbot.chat(\"Its raining here today! I want to enjoy it. how shall i?\"))"
   ]
  },
  {
   "cell_type": "code",
   "execution_count": 10,
   "id": "f7b6e95f-ac4d-423c-841b-ee03c3330563",
   "metadata": {},
   "outputs": [
    {
     "name": "stdout",
     "output_type": "stream",
     "text": [
      "Here are some activity suggestions for a rainy day:\n",
      "\n",
      "**Educational activities**\n",
      "\n",
      "1. **Learn a new language**: Download a language learning app like Duolingo and start exploring a new language.\n",
      "2. **Take an online course**: Websites like Coursera, Udemy, and edX offer courses on various subjects, including AI, technology, cooking, and more.\n",
      "3. **Watch documentaries**: Rainy days are perfect for binge-watching documentaries on topics like travel, food, music, or technology.\n",
      "\n",
      "**Creative activities**\n",
      "\n",
      "1. **Write a story**: Get creative with writing and start crafting a new short story or poetry piece.\n",
      "2. **Draw or paint**: Take out your sketchbook and create some art inspired by the rainy day.\n",
      "3. **Make music**: Try composing some music or playing an instrument without any distractions.\n",
      "\n",
      "**Foodie activities**\n",
      "\n",
      "1. **Plan a meal**: Research a new cuisine or recipe and plan a meal for another day.\n",
      "2. **Try a new cooking technique**: Look up YouTube videos or blogs about a specific cooking method, like sushi-making or pasta-crafting.\n",
      "3. **Bake or cook**: Spend the day baking cookies, making cakes, or trying out other recipes.\n",
      "\n",
      "**Game night**\n",
      "\n",
      "1. **Play board games**: Break out old favorites or try new ones online or with friends and family.\n",
      "2. **Video games**: Challenge yourself to a marathon gaming session.\n",
      "3. **Puzzle time**: Work on crosswords, Sudoku, or jigsaw puzzles while listening to your favorite music.\n",
      "\n",
      "**Other suggestions**\n",
      "\n",
      "1. **Meditate or practice yoga**: Wind down and relax with some mindfulness exercises or stretches.\n",
      "2. **Read a book**: Get lost in a new novel or re-read an old favorite.\n",
      "3. **Indulge in online therapy sessions**: Book an appointment with an AI-powered therapist (like chatbots) if you need support.\n",
      "\n",
      "Which one of these activities sounds appealing to you?\n"
     ]
    }
   ],
   "source": [
    "print(chatbot.chat(\"what kind of activities do you suggest?\"))"
   ]
  },
  {
   "cell_type": "code",
   "execution_count": 11,
   "id": "15d71532-09cc-4b6f-8288-210f1aafc2b7",
   "metadata": {},
   "outputs": [
    {
     "name": "stdout",
     "output_type": "stream",
     "text": [
      "Let's have some FUN!\n",
      "\n",
      "Here are some ideas for a hilarious, entertaining, and enjoyable rainy day:\n",
      "\n",
      "**Games & Challenges**\n",
      "\n",
      "1. **20 Questions**: Think of an object, and I try to guess what it is by asking yes/no questions.\n",
      "2. **Would You Rather**: Present me with two ridiculous options, and I tell you which one I'd choose (e.g., \"Would you rather have a pet dinosaur or be able to breathe underwater?\").\n",
      "3. **Jokes**: Share your favorite jokes, or I can tell you some punny ones.\n",
      "\n",
      "**Creative Challenges**\n",
      "\n",
      "1. **Word Chain**: We take turns coming up with words that start with the last letter of the previous word (e.g., \"cat\" > \"tiger\" > \"restaurant\").\n",
      "2. **Storytelling**: Start telling a tale, and then I'll add a paragraph to continue it, and so on.\n",
      "3. **Mad Libs**: Fill in the blanks of a story with silly words, like \"adjectives\" or words you make up.\n",
      "\n",
      "**Nerdy Puns**\n",
      "\n",
      "1. **Riddles**: Solve my puzzle riddles, or try to come up with your own.\n",
      "2. **Trivia**: Compete against each other on trivia questions (I can provide some for free).\n",
      "3. **Wordplay**: Discuss the quirks and magic of language with me (we could geek out about linguistic patterns).\n",
      "\n",
      "**Miscellaneous Mirth**\n",
      "\n",
      "1. **Silly impressions**: Make a funny impression, like a parody movie, anime character, or voice actor.\n",
      "2. **Random fun facts**: I can share intriguing factoids on random topics – which one would you want to hear?\n",
      "\n",
      "Which option tickles your fancy?\n"
     ]
    }
   ],
   "source": [
    "print(chatbot.chat(\"Anything thats fun\"))"
   ]
  },
  {
   "cell_type": "code",
   "execution_count": null,
   "id": "89a35497-82f8-4081-aea9-4a33b21d885e",
   "metadata": {},
   "outputs": [],
   "source": []
  }
 ],
 "metadata": {
  "kernelspec": {
   "display_name": "Python 3 (ipykernel)",
   "language": "python",
   "name": "python3"
  },
  "language_info": {
   "codemirror_mode": {
    "name": "ipython",
    "version": 3
   },
   "file_extension": ".py",
   "mimetype": "text/x-python",
   "name": "python",
   "nbconvert_exporter": "python",
   "pygments_lexer": "ipython3",
   "version": "3.10.12"
  },
  "widgets": {
   "application/vnd.jupyter.widget-state+json": {
    "state": {},
    "version_major": 2,
    "version_minor": 0
   }
  }
 },
 "nbformat": 4,
 "nbformat_minor": 5
}
