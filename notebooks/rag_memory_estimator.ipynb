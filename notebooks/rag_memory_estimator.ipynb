{
 "cells": [
  {
   "cell_type": "code",
   "execution_count": 1,
   "metadata": {
    "id": "diZXvxzZF7gt"
   },
   "outputs": [],
   "source": [
    "import numpy as np"
   ]
  },
  {
   "cell_type": "code",
   "execution_count": 2,
   "metadata": {
    "id": "sDS3Q7YCF-xQ"
   },
   "outputs": [],
   "source": [
    "# Memory estimation\n",
    "d = np.random.randn(1000000, 512)"
   ]
  },
  {
   "cell_type": "code",
   "execution_count": 3,
   "metadata": {
    "id": "SuUWDS2wX6y7"
   },
   "outputs": [],
   "source": [
    "def estimate_memory(ndocs, embedding_dim, dtype=np.float64):\n",
    "  \"\"\"\n",
    "  Estimates the memory required to store a NumPy array in megabytes (MB) or gigabytes (GB).\n",
    "\n",
    "  Args:\n",
    "      ndocs: no. if documents\n",
    "      embedding_dim: embedding dimensions\n",
    "\n",
    "  Returns:\n",
    "      A string indicating the estimated memory usage in MB or GB.\n",
    "  \"\"\"\n",
    "\n",
    "  dtype_size = np.dtype(dtype).itemsize  # Size of a single element in bytes\n",
    "  total_size_bytes = ndocs * dtype_size * embedding_dim\n",
    "\n",
    "  if total_size_bytes < 1e5:\n",
    "    return f\"{total_size_bytes:.2f} bytes\"\n",
    "  elif total_size_bytes < 1e9:\n",
    "    return f\"{total_size_bytes / 1e6:.2f} MB\"\n",
    "  else:\n",
    "    return f\"{total_size_bytes / 1e9:.2f} GB\""
   ]
  },
  {
   "cell_type": "code",
   "execution_count": 4,
   "metadata": {
    "colab": {
     "base_uri": "https://localhost:8080/",
     "height": 35
    },
    "id": "KuNeJexSYp3-",
    "outputId": "1831a2d7-c04a-4a36-f407-1016618fd55c"
   },
   "outputs": [
    {
     "data": {
      "text/plain": [
       "'40.96 MB'"
      ]
     },
     "execution_count": 4,
     "metadata": {},
     "output_type": "execute_result"
    }
   ],
   "source": [
    "estimate_memory(10000, 512)"
   ]
  },
  {
   "cell_type": "code",
   "execution_count": null,
   "metadata": {},
   "outputs": [],
   "source": []
  }
 ],
 "metadata": {
  "colab": {
   "provenance": []
  },
  "kernelspec": {
   "display_name": "Python 3 (ipykernel)",
   "language": "python",
   "name": "python3"
  },
  "language_info": {
   "codemirror_mode": {
    "name": "ipython",
    "version": 3
   },
   "file_extension": ".py",
   "mimetype": "text/x-python",
   "name": "python",
   "nbconvert_exporter": "python",
   "pygments_lexer": "ipython3",
   "version": "3.10.12"
  },
  "widgets": {
   "application/vnd.jupyter.widget-state+json": {
    "state": {},
    "version_major": 2,
    "version_minor": 0
   }
  }
 },
 "nbformat": 4,
 "nbformat_minor": 4
}
